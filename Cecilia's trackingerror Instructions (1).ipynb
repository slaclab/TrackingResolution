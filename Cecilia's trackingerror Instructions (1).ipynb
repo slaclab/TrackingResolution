{
 "cells": [
  {
   "cell_type": "code",
   "execution_count": 15,
   "metadata": {},
   "outputs": [
    {
     "name": "stdout",
     "output_type": "stream",
     "text": [
      "load successfully\n",
      "Error: The input file is not supported or empty, please check that the file is in required format.\n",
      "No detector is selected.\n"
     ]
    }
   ],
   "source": [
    "### Instructions for running trackingerror.py.ipynb on jupyter notebook ###\n",
    "\n",
    "# This file describes four different ways to run this code.\n",
    "\n",
    "#First, load the module from jupyter notebook.\n",
    "%run trackingerror.py.ipynb"
   ]
  },
  {
   "cell_type": "code",
   "execution_count": 18,
   "metadata": {},
   "outputs": [
    {
     "data": {
      "text/plain": [
       "{'sigma(d)': 47.8559364056791,\n",
       " 'sigma(phi)': 0.0011741334164294588,\n",
       " 'sigma(pt)/pt': 0.015061252509956631,\n",
       " 'sigma(theta)': 0.0009545855038347535,\n",
       " 'sigma(z)': 42.60575132757381}"
      ]
     },
     "execution_count": 18,
     "metadata": {},
     "output_type": "execute_result"
    }
   ],
   "source": [
    "## Calculate the resoultion of all five parameters for a given momentum and B field, using addlayer:\n",
    "\n",
    "#The first way to add a layer is by function addlayer(d,res_xy,res_z,position).\n",
    "#d is the thickness of the layer in radiation length X0,\n",
    "#res_xy is the resolution in the transverse plane [microns], and res_z is the resolution in the z direction [microns].\n",
    "#The origin is set at the center.\n",
    "#Note: the units here are X0 for d, micrometers for res_xy and res_z, and meters for position.\n",
    "mydetector=Detector()\n",
    "mydetector.addlayer(0.0067,5.0e-5/sqrt(12),5.0e-5/sqrt(12),0.039)\n",
    "mydetector.addlayer(0.0067,5.0e-5/sqrt(12),5.0e-5/sqrt(12),0.099)\n",
    "mydetector.addlayer(0.0067,5.0e-5/sqrt(12),5.0e-5/sqrt(12),0.16)\n",
    "mydetector.addlayer(0.0067,5.0e-5/sqrt(12),5.0e-5/sqrt(12),0.22)\n",
    "mydetector.addlayer(0.0067,5.0e-5/sqrt(12),5.0e-5/sqrt(12),0.279)\n",
    "\n",
    "#Calculate the error for p=1GeV, B=2T, eta=0 (default), m=0.106 (default)\n",
    "mydetector.errorcalculation(1,2)"
   ]
  },
  {
   "cell_type": "code",
   "execution_count": 19,
   "metadata": {},
   "outputs": [
    {
     "data": {
      "text/plain": [
       "{'sigma(d)': 43.73123418507008,\n",
       " 'sigma(phi)': 0.0010036187008771018,\n",
       " 'sigma(pt)/pt': 0.006834784687877832,\n",
       " 'sigma(theta)': 0.00095458494526186,\n",
       " 'sigma(z)': 42.60567285920732}"
      ]
     },
     "execution_count": 19,
     "metadata": {},
     "output_type": "execute_result"
    }
   ],
   "source": [
    "## Calculate the resoultion of all five parameters for a given momentum and B field, using addlayer2:\n",
    "\n",
    "Strip1=Layer(0.02,7.575e-5/sqrt(12),7.575e-5/sqrt(12),0.405)\n",
    "Strip2=Layer(0.02,7.575e-5/sqrt(12),7.575e-5/sqrt(12),0.562)\n",
    "Strip3=Layer(0.02,7.575e-5/sqrt(12),7.575e-5/sqrt(12),0.762)\n",
    "Strip4=Layer(0.02,7.575e-5/sqrt(12),7.575e-5/sqrt(12),1)\n",
    "mydetector.addlayer2(Strip1)\n",
    "mydetector.addlayer2(Strip2)\n",
    "mydetector.addlayer2(Strip3)\n",
    "mydetector.addlayer2(Strip4)\n",
    "\n",
    "#Calculate the error for p=1GeV, B=2T, eta=0 (default), m=0.106 (default)\n",
    "mydetector.errorcalculation(1,2)"
   ]
  },
  {
   "cell_type": "code",
   "execution_count": 17,
   "metadata": {},
   "outputs": [
    {
     "name": "stdout",
     "output_type": "stream",
     "text": [
      "#\tWidth\tResolutionxy\tResolutionz\tposition\n",
      "1  \t0.00489\t3e-06\t\t3e-06\t\t0.0175\n",
      "2  \t0.00489\t3e-06\t\t3e-06\t\t0.0185\n",
      "3  \t0.00489\t3e-06\t\t3e-06\t\t0.037\n",
      "4  \t0.00489\t3e-06\t\t3e-06\t\t0.038\n",
      "5  \t0.00489\t3e-06\t\t3e-06\t\t0.057\n",
      "6  \t0.00489\t3e-06\t\t3e-06\t\t0.058\n",
      "7  \t0.0148\t7e-06\t\t9e-05\t\t0.127\n",
      "8  \t0.0148\t7e-06\t\t9e-05\t\t0.4\n",
      "9  \t0.0148\t7e-06\t\t9e-05\t\t0.67\n",
      "10 \t0.0118\t7e-06\t\t9e-05\t\t1\n",
      "11 \t0.0118\t7e-06\t\t9e-05\t\t1.568\n",
      "12 \t0.0118\t7e-06\t\t9e-05\t\t2.136\n",
      "Successfully read 12 layers\n"
     ]
    },
    {
     "data": {
      "text/plain": [
       "{'sigma(d)': 26.810324121213398,\n",
       " 'sigma(phi)': 0.001498792763704568,\n",
       " 'sigma(pt)/pt': 0.0035471662677927073,\n",
       " 'sigma(theta)': 0.001321824633122705,\n",
       " 'sigma(z)': 30.018055753243903}"
      ]
     },
     "execution_count": 17,
     "metadata": {},
     "output_type": "execute_result"
    }
   ],
   "source": [
    "## Calculate the resoultion of all five parameters for a given momentum and B field, using a file input:\n",
    "\n",
    "#Input data from a txt file (be sure to include file path in the name)\n",
    "mydetector = inputfromfile('filename',1)\n",
    "#Calculate the error for p=1GeV, B=2T, eta=0.5, m=1\n",
    "mydetector.errorcalculation(1,2,0.5,1)"
   ]
  },
  {
   "cell_type": "code",
   "execution_count": 20,
   "metadata": {},
   "outputs": [
    {
     "name": "stdout",
     "output_type": "stream",
     "text": [
      "#\tWidth\tResolutionxy\tResolutionz\tposition\n",
      "1  \t0.00489\t3e-06\t\t3e-06\t\t0.0175\n",
      "2  \t0.00489\t3e-06\t\t3e-06\t\t0.0185\n",
      "3  \t0.00489\t3e-06\t\t3e-06\t\t0.037\n",
      "4  \t0.00489\t3e-06\t\t3e-06\t\t0.038\n",
      "5  \t0.00489\t3e-06\t\t3e-06\t\t0.057\n",
      "6  \t0.00489\t3e-06\t\t3e-06\t\t0.058\n",
      "7  \t0.0148\t7e-06\t\t9e-05\t\t0.127\n",
      "8  \t0.0148\t7e-06\t\t9e-05\t\t0.4\n",
      "9  \t0.0148\t7e-06\t\t9e-05\t\t0.67\n",
      "10 \t0.0118\t7e-06\t\t9e-05\t\t1\n",
      "11 \t0.0118\t7e-06\t\t9e-05\t\t1.568\n",
      "12 \t0.0118\t7e-06\t\t9e-05\t\t2.136\n",
      "Successfully read 12 layers\n",
      "19.2876411094\n"
     ]
    },
    {
     "data": {
      "text/plain": [
       "<__main__.Detector instance at 0x10bc40d88>"
      ]
     },
     "execution_count": 20,
     "metadata": {},
     "output_type": "execute_result"
    },
    {
     "data": {
      "image/png": "[encoded data removed]",
      "text/plain": [
       "<matplotlib.figure.Figure at 0x10bbdd9d0>"
      ]
     },
     "metadata": {},
     "output_type": "display_data"
    }
   ],
   "source": [
    "## Plot the resolution for a parameter as a function of transverse momentum:\n",
    "\n",
    "#Use plot function with inputs: file input, the parameter, B (default = 2T), eta (default=0), and m (default=0.106).\n",
    "#Parameter input options are: 'sigma(d)', 'sigma(phi)', 'sigma(pt)/pt', 'sigma(theta)', 'sigma(z)'.\n",
    "plot('filename','sigma(d)')"
   ]
  },
  {
   "cell_type": "code",
   "execution_count": null,
   "metadata": {},
   "outputs": [],
   "source": []
  }
 ],
 "metadata": {
  "kernelspec": {
   "display_name": "Python 2",
   "language": "python",
   "name": "python2"
  },
  "language_info": {
   "codemirror_mode": {
    "name": "ipython",
    "version": 2
   },
   "file_extension": ".py",
   "mimetype": "text/x-python",
   "name": "python",
   "nbconvert_exporter": "python",
   "pygments_lexer": "ipython2",
   "version": "2.7.14"
  }
 },
 "nbformat": 4,
 "nbformat_minor": 2
}
